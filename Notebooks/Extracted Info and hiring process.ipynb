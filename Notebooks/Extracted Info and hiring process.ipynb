{
 "cells": [
  {
   "cell_type": "markdown",
   "id": "25904311",
   "metadata": {},
   "source": [
    "# Extracting Text from Resumes\n",
    "The first step in resume parsing is to extract the text from resumes in various formats, such as PDF or Word documents. We’ll be using the pdfminer.six library to extract text from PDF resumes. Here’s a function that takes a PDF file path as input and returns the extracted text:"
   ]
  },
  {
   "cell_type": "code",
   "execution_count": 12,
   "id": "13e26409",
   "metadata": {},
   "outputs": [
    {
     "name": "stdout",
     "output_type": "stream",
     "text": [
      "Collecting pdfminer.six\n",
      "  Using cached pdfminer_six-20250327-py3-none-any.whl.metadata (4.1 kB)\n",
      "Requirement already satisfied: charset-normalizer>=2.0.0 in c:\\users\\ritik\\appdata\\local\\programs\\python\\python311\\lib\\site-packages (from pdfminer.six) (3.4.1)\n",
      "Collecting cryptography>=36.0.0 (from pdfminer.six)\n",
      "  Downloading cryptography-44.0.2-cp39-abi3-win_amd64.whl.metadata (5.7 kB)\n",
      "Collecting cffi>=1.12 (from cryptography>=36.0.0->pdfminer.six)\n",
      "  Downloading cffi-1.17.1-cp311-cp311-win_amd64.whl.metadata (1.6 kB)\n",
      "Collecting pycparser (from cffi>=1.12->cryptography>=36.0.0->pdfminer.six)\n",
      "  Using cached pycparser-2.22-py3-none-any.whl.metadata (943 bytes)\n",
      "Using cached pdfminer_six-20250327-py3-none-any.whl (5.6 MB)\n",
      "Downloading cryptography-44.0.2-cp39-abi3-win_amd64.whl (3.2 MB)\n",
      "   ---------------------------------------- 0.0/3.2 MB ? eta -:--:--\n",
      "   ---------------------------------------- 0.0/3.2 MB 660.6 kB/s eta 0:00:05\n",
      "   - -------------------------------------- 0.1/3.2 MB 1.4 MB/s eta 0:00:03\n",
      "   -- ------------------------------------- 0.2/3.2 MB 1.5 MB/s eta 0:00:03\n",
      "   --- ------------------------------------ 0.3/3.2 MB 1.6 MB/s eta 0:00:02\n",
      "   ---- ----------------------------------- 0.4/3.2 MB 1.6 MB/s eta 0:00:02\n",
      "   ----- ---------------------------------- 0.5/3.2 MB 1.7 MB/s eta 0:00:02\n",
      "   ------- -------------------------------- 0.6/3.2 MB 1.8 MB/s eta 0:00:02\n",
      "   -------- ------------------------------- 0.7/3.2 MB 1.8 MB/s eta 0:00:02\n",
      "   --------- ------------------------------ 0.8/3.2 MB 1.9 MB/s eta 0:00:02\n",
      "   ---------- ----------------------------- 0.9/3.2 MB 1.8 MB/s eta 0:00:02\n",
      "   ----------- ---------------------------- 1.0/3.2 MB 1.8 MB/s eta 0:00:02\n",
      "   ------------- -------------------------- 1.0/3.2 MB 1.8 MB/s eta 0:00:02\n",
      "   -------------- ------------------------- 1.2/3.2 MB 1.8 MB/s eta 0:00:02\n",
      "   --------------- ------------------------ 1.2/3.2 MB 1.8 MB/s eta 0:00:02\n",
      "   ---------------- ----------------------- 1.3/3.2 MB 1.9 MB/s eta 0:00:02\n",
      "   ----------------- ---------------------- 1.4/3.2 MB 1.9 MB/s eta 0:00:01\n",
      "   ------------------ --------------------- 1.5/3.2 MB 1.9 MB/s eta 0:00:01\n",
      "   ------------------- -------------------- 1.6/3.2 MB 1.9 MB/s eta 0:00:01\n",
      "   -------------------- ------------------- 1.7/3.2 MB 1.9 MB/s eta 0:00:01\n",
      "   --------------------- ------------------ 1.8/3.2 MB 1.9 MB/s eta 0:00:01\n",
      "   ---------------------- ----------------- 1.8/3.2 MB 1.9 MB/s eta 0:00:01\n",
      "   ----------------------- ---------------- 1.9/3.2 MB 1.9 MB/s eta 0:00:01\n",
      "   ------------------------- -------------- 2.0/3.2 MB 1.9 MB/s eta 0:00:01\n",
      "   -------------------------- ------------- 2.1/3.2 MB 1.9 MB/s eta 0:00:01\n",
      "   --------------------------- ------------ 2.2/3.2 MB 1.9 MB/s eta 0:00:01\n",
      "   ---------------------------- ----------- 2.3/3.2 MB 1.9 MB/s eta 0:00:01\n",
      "   ----------------------------- ---------- 2.4/3.2 MB 1.9 MB/s eta 0:00:01\n",
      "   ------------------------------- -------- 2.5/3.2 MB 1.9 MB/s eta 0:00:01\n",
      "   -------------------------------- ------- 2.6/3.2 MB 1.9 MB/s eta 0:00:01\n",
      "   --------------------------------- ------ 2.7/3.2 MB 1.9 MB/s eta 0:00:01\n",
      "   ---------------------------------- ----- 2.8/3.2 MB 1.9 MB/s eta 0:00:01\n",
      "   ----------------------------------- ---- 2.9/3.2 MB 1.9 MB/s eta 0:00:01\n",
      "   ------------------------------------ --- 3.0/3.2 MB 1.9 MB/s eta 0:00:01\n",
      "   ------------------------------------- -- 3.0/3.2 MB 1.9 MB/s eta 0:00:01\n",
      "   -------------------------------------- - 3.1/3.2 MB 1.9 MB/s eta 0:00:01\n",
      "   ---------------------------------------  3.2/3.2 MB 1.9 MB/s eta 0:00:01\n",
      "   ---------------------------------------- 3.2/3.2 MB 1.9 MB/s eta 0:00:00\n",
      "Downloading cffi-1.17.1-cp311-cp311-win_amd64.whl (181 kB)\n",
      "   ---------------------------------------- 0.0/181.4 kB ? eta -:--:--\n",
      "   ------------------ --------------------- 81.9/181.4 kB 2.3 MB/s eta 0:00:01\n",
      "   -------------------------------------- - 174.1/181.4 kB 2.1 MB/s eta 0:00:01\n",
      "   ---------------------------------------- 181.4/181.4 kB 1.8 MB/s eta 0:00:00\n",
      "Using cached pycparser-2.22-py3-none-any.whl (117 kB)\n",
      "Installing collected packages: pycparser, cffi, cryptography, pdfminer.six\n",
      "Successfully installed cffi-1.17.1 cryptography-44.0.2 pdfminer.six-20250327 pycparser-2.22\n",
      "Note: you may need to restart the kernel to use updated packages.\n"
     ]
    },
    {
     "name": "stderr",
     "output_type": "stream",
     "text": [
      "\n",
      "[notice] A new release of pip is available: 24.0 -> 25.0.1\n",
      "[notice] To update, run: python.exe -m pip install --upgrade pip\n"
     ]
    }
   ],
   "source": [
    "pip install --upgrade pdfminer.six\n"
   ]
  },
  {
   "cell_type": "code",
   "execution_count": null,
   "id": "53e123ef",
   "metadata": {},
   "outputs": [
    {
     "name": "stderr",
     "output_type": "stream",
     "text": [
      "CropBox missing from /Page, defaulting to MediaBox\n",
      "CropBox missing from /Page, defaulting to MediaBox\n"
     ]
    },
    {
     "name": "stdout",
     "output_type": "stream",
     "text": [
      "Extracted Name: John Doe\n"
     ]
    }
   ],
   "source": [
    "import re\n",
    "from pdfminer.high_level import extract_text\n",
    "\n",
    "def extract_text_from_pdf(pdf_path):\n",
    "    return extract_text(pdf_path)\n",
    "\n",
    "\n",
    "resume_path = \"info resume.pdf\"\n",
    "text = extract_text_from_pdf(resume_path)\n",
    "text"
   ]
  },
  {
   "cell_type": "markdown",
   "id": "3869cab2",
   "metadata": {},
   "source": [
    "# Extracting Contact Information\n",
    "\n",
    "\n",
    "Contact information, including phone numbers, email addresses, and physical addresses, is crucial for reaching out to potential candidates. Extracting this information accurately is an essential part of resume parsing. We can use regular expressions to match patterns and extract contact information.\n",
    "\n",
    "# Function to Extract\n",
    "\n",
    "\n",
    "Let’s define a function to extract a contact number from the resume text:"
   ]
  },
  {
   "cell_type": "code",
   "execution_count": 21,
   "id": "4795cd19",
   "metadata": {},
   "outputs": [
    {
     "name": "stdout",
     "output_type": "stream",
     "text": [
      "Extracted Contact Numbers: ['1 (123) 456-7890', '91 98765 43210', '987-654-3210', '0123) 456-7890', '44-20-7946-0958']\n"
     ]
    }
   ],
   "source": [
    "import re\n",
    "\n",
    "def extract_contact_number_from_resume(text):\n",
    "    # Combined regex pattern using OR (|)\n",
    "    pattern = (\n",
    "        r\"\\b(?:\\+?\\d{1,3}[-.\\s]?)?(?:\\(?\\d{2,4}\\)?[-.\\s]?)?\\d{3,4}[-.\\s]?\\d{3,4}\\b\"\n",
    "        r\"|\"\n",
    "        r\"\\b(?:\\+?\\d{1,3}[-.\\s]?)?(?:\\(?\\d{2,4}\\)?[-.\\s]?)?\\d{2,5}[-.\\s]?\\d{3,5}[-.\\s]?\\d{3,5}\\b\"\n",
    "    )\n",
    "\n",
    "    matches = re.findall(pattern, text)\n",
    "\n",
    "    return matches if matches else [\"Contact number not found\"]\n",
    "\n",
    "# Example text\n",
    "resume_text = \"\"\"\n",
    "John Doe\n",
    "Phone: +1 (123) 456-7890\n",
    "Alternate: +91 98765 43210\n",
    "Work: 987-654-3210\n",
    "Office: (0123) 456-7890\n",
    "Direct: +44-20-7946-0958\n",
    "\"\"\"\n",
    "\n",
    "# Extract phone numbers\n",
    "phones = extract_contact_number_from_resume(resume_text)\n",
    "print(\"Extracted Contact Numbers:\", phones)\n"
   ]
  },
  {
   "cell_type": "markdown",
   "id": "73ce6ac7",
   "metadata": {},
   "source": [
    "# Extracting Email Address\n",
    "In addition to the contact number, extracting the email address is vital for communication with candidates. We can again use regular expressions to match patterns and extract the email address. Here’s a function to extract the email address from the resume text:"
   ]
  },
  {
   "cell_type": "code",
   "execution_count": 22,
   "id": "1bc1e09c",
   "metadata": {},
   "outputs": [
    {
     "name": "stdout",
     "output_type": "stream",
     "text": [
      "Extracted Email: john.doe@example.com\n"
     ]
    }
   ],
   "source": [
    "import re\n",
    "\n",
    "def extract_email_from_resume(text):\n",
    "    # Use regex pattern to find a potential email address\n",
    "    pattern = r\"\\b[A-Za-z0-9._%+-]+@[A-Za-z0-9.-]+\\.[A-Za-z]{2,}\\b\"\n",
    "    \n",
    "    match = re.search(pattern, text)\n",
    "    if match:\n",
    "        email = match.group().strip()  # Remove leading/trailing spaces\n",
    "        \n",
    "        # Fix unexpected characters like \"pe\" before the email\n",
    "        email = re.sub(r\"^pe\", \"\", email)  # Remove \"pe\" if it appears at the start\n",
    "        \n",
    "        return email\n",
    "\n",
    "    return \"Email not found\"\n",
    "\n",
    "# Example text where 'pe' is mistakenly added\n",
    "resume_text = \"\"\"\n",
    "Name: John Doe\n",
    "Email: pejohn.doe@example.com\n",
    "\"\"\"\n",
    "\n",
    "email = extract_email_from_resume(resume_text)\n",
    "print(\"Extracted Email:\", email)\n"
   ]
  },
  {
   "cell_type": "markdown",
   "id": "a74a16b8",
   "metadata": {},
   "source": [
    "# Extracting Skills\n",
    "Identifying the skills mentioned in a resume is crucial for determining the candidate’s qualifications. We can create a list of relevant skills and match them against the resume text to extract the mentioned skills. Let’s define a function to extract skills from the resume text:"
   ]
  },
  {
   "cell_type": "code",
   "execution_count": 28,
   "id": "dbb25dda",
   "metadata": {},
   "outputs": [
    {
     "name": "stdout",
     "output_type": "stream",
     "text": [
      "Skills: ['Python', 'Communication', 'Java', 'JavaScript', 'HTML', 'CSS', 'React', 'MongoDB', 'Git', 'Research', 'Linux', 'Scrum', 'Software Development', 'Web Development', 'E-commerce', 'RESTful APIs', 'Django', 'Flask', 'MySQL', 'PostgreSQL', 'MongoDB']\n"
     ]
    }
   ],
   "source": [
    "import re\n",
    "\n",
    "def extract_skills_from_resume(text, skills_list):\n",
    "    skills = []\n",
    "\n",
    "    for skill in skills_list:\n",
    "        pattern = r\"\\b{}\\b\".format(re.escape(skill))\n",
    "        match = re.search(pattern, text, re.IGNORECASE)\n",
    "        if match:\n",
    "            skills.append(skill)\n",
    "\n",
    "    return skills\n",
    "\n",
    "\n",
    "# List of predefined skills\n",
    "skills_list = [\n",
    "    'Python', 'Data Analysis', 'Machine Learning', 'Communication', 'Project Management', 'Deep Learning', 'SQL', 'Tableau',\n",
    "    'Java', 'C++', 'JavaScript', 'HTML', 'CSS', 'React', 'Angular', 'Node.js', 'MongoDB', 'Express.js', 'Git',\n",
    "    'Research', 'Statistics', 'Quantitative Analysis', 'Qualitative Analysis', 'SPSS', 'R', 'Data Visualization', 'Matplotlib',\n",
    "    'Seaborn', 'Plotly', 'Pandas', 'Numpy', 'Scikit-learn', 'TensorFlow', 'Keras', 'PyTorch', 'NLTK', 'Text Mining',\n",
    "    'Natural Language Processing', 'Computer Vision', 'Image Processing', 'OCR', 'Speech Recognition', 'Recommendation Systems',\n",
    "    'Collaborative Filtering', 'Content-Based Filtering', 'Reinforcement Learning', 'Neural Networks', 'Convolutional Neural Networks',\n",
    "    'Recurrent Neural Networks', 'Generative Adversarial Networks', 'XGBoost', 'Random Forest', 'Decision Trees', 'Support Vector Machines',\n",
    "    'Linear Regression', 'Logistic Regression', 'K-Means Clustering', 'Hierarchical Clustering', 'DBSCAN', 'Association Rule Learning',\n",
    "    'Apache Hadoop', 'Apache Spark', 'MapReduce', 'Hive', 'HBase', 'Apache Kafka', 'Data Warehousing', 'ETL', 'Big Data Analytics',\n",
    "    'Cloud Computing', 'Amazon Web Services (AWS)', 'Microsoft Azure', 'Google Cloud Platform (GCP)', 'Docker', 'Kubernetes', 'Linux',\n",
    "    'Shell Scripting', 'Cybersecurity', 'Network Security', 'Penetration Testing', 'Firewalls', 'Encryption', 'Malware Analysis',\n",
    "    'Digital Forensics', 'CI/CD', 'DevOps', 'Agile Methodology', 'Scrum', 'Kanban', 'Continuous Integration', 'Continuous Deployment',\n",
    "    'Software Development', 'Web Development', 'Mobile Development', 'Backend Development', 'Frontend Development', 'Full-Stack Development',\n",
    "    'UI/UX Design', 'Responsive Design', 'Wireframing', 'Prototyping', 'User Testing', 'Adobe Creative Suite', 'Photoshop', 'Illustrator',\n",
    "    'InDesign', 'Figma', 'Sketch', 'Zeplin', 'InVision', 'Product Management', 'Market Research', 'Customer Development', 'Lean Startup',\n",
    "    'Business Development', 'Sales', 'Marketing', 'Content Marketing', 'Social Media Marketing', 'Email Marketing', 'SEO', 'SEM', 'PPC',\n",
    "    'Google Analytics', 'Facebook Ads', 'LinkedIn Ads', 'Lead Generation', 'Customer Relationship Management (CRM)', 'Salesforce',\n",
    "    'HubSpot', 'Zendesk', 'Intercom', 'Customer Support', 'Technical Support', 'Troubleshooting', 'Ticketing Systems', 'ServiceNow',\n",
    "    'ITIL', 'Quality Assurance', 'Manual Testing', 'Automated Testing', 'Selenium', 'JUnit', 'Load Testing', 'Performance Testing',\n",
    "    'Regression Testing', 'Black Box Testing', 'White Box Testing', 'API Testing', 'Mobile Testing', 'Usability Testing', 'Accessibility Testing',\n",
    "    'Cross-Browser Testing', 'Agile Testing', 'User Acceptance Testing', 'Software Documentation', 'Technical Writing', 'Copywriting',\n",
    "    'Editing', 'Proofreading', 'Content Management Systems (CMS)', 'WordPress', 'Joomla', 'Drupal', 'Magento', 'Shopify', 'E-commerce',\n",
    "    'Payment Gateways', 'Inventory Management', 'Supply Chain Management', 'Logistics', 'Procurement', 'ERP Systems', 'SAP', 'Oracle',\n",
    "    'Microsoft Dynamics', 'Tableau', 'Power BI', 'QlikView', 'Looker', 'Data Warehousing', 'ETL', 'Data Engineering', 'Data Governance',\n",
    "    'Data Quality', 'Master Data Management', 'Predictive Analytics', 'Prescriptive Analytics', 'Descriptive Analytics', 'Business Intelligence',\n",
    "    'Dashboarding', 'Reporting', 'Data Mining', 'Web Scraping', 'API Integration', 'RESTful APIs', 'GraphQL', 'SOAP', 'Microservices',\n",
    "    'Serverless Architecture', 'Lambda Functions', 'Event-Driven Architecture', 'Message Queues', 'GraphQL', 'Socket.io', 'WebSockets'\n",
    "'Ruby', 'Ruby on Rails', 'PHP', 'Symfony', 'Laravel', 'CakePHP', 'Zend Framework', 'ASP.NET', 'C#', 'VB.NET', 'ASP.NET MVC', 'Entity Framework',\n",
    "    'Spring', 'Hibernate', 'Struts', 'Kotlin', 'Swift', 'Objective-C', 'iOS Development', 'Android Development', 'Flutter', 'React Native', 'Ionic',\n",
    "    'Mobile UI/UX Design', 'Material Design', 'SwiftUI', 'RxJava', 'RxSwift', 'Django', 'Flask', 'FastAPI', 'Falcon', 'Tornado', 'WebSockets',\n",
    "    'GraphQL', 'RESTful Web Services', 'SOAP', 'Microservices Architecture', 'Serverless Computing', 'AWS Lambda', 'Google Cloud Functions',\n",
    "    'Azure Functions', 'Server Administration', 'System Administration', 'Network Administration', 'Database Administration', 'MySQL', 'PostgreSQL',\n",
    "    'SQLite', 'Microsoft SQL Server', 'Oracle Database', 'NoSQL', 'MongoDB', 'Cassandra', 'Redis', 'Elasticsearch', 'Firebase', 'Google Analytics',\n",
    "    'Google Tag Manager', 'Adobe Analytics', 'Marketing Automation', 'Customer Data Platforms', 'Segment', 'Salesforce Marketing Cloud', 'HubSpot CRM',\n",
    "    'Zapier', 'IFTTT', 'Workflow Automation', 'Robotic Process Automation (RPA)', 'UI Automation', 'Natural Language Generation (NLG)',\n",
    "    'Virtual Reality (VR)', 'Augmented Reality (AR)', 'Mixed Reality (MR)', 'Unity', 'Unreal Engine', '3D Modeling', 'Animation', 'Motion Graphics',\n",
    "    'Game Design', 'Game Development', 'Level Design', 'Unity3D', 'Unreal Engine 4', 'Blender', 'Maya', 'Adobe After Effects', 'Adobe Premiere Pro',\n",
    "    'Final Cut Pro', 'Video Editing', 'Audio Editing', 'Sound Design', 'Music Production', 'Digital Marketing', 'Content Strategy', 'Conversion Rate Optimization (CRO)',\n",
    "    'A/B Testing', 'Customer Experience (CX)', 'User Experience (UX)', 'User Interface (UI)', 'Persona Development', 'User Journey Mapping', 'Information Architecture (IA)',\n",
    "    'Wireframing', 'Prototyping', 'Usability Testing', 'Accessibility Compliance', 'Internationalization (I18n)', 'Localization (L10n)', 'Voice User Interface (VUI)',\n",
    "    'Chatbots', 'Natural Language Understanding (NLU)', 'Speech Synthesis', 'Emotion Detection', 'Sentiment Analysis', 'Image Recognition', 'Object Detection',\n",
    "    'Facial Recognition', 'Gesture Recognition', 'Document Recognition', 'Fraud Detection', 'Cyber Threat Intelligence', 'Security Information and Event Management (SIEM)',\n",
    "    'Vulnerability Assessment', 'Incident Response', 'Forensic Analysis', 'Security Operations Center (SOC)', 'Identity and Access Management (IAM)', 'Single Sign-On (SSO)',\n",
    "    'Multi-Factor Authentication (MFA)', 'Blockchain', 'Cryptocurrency', 'Decentralized Finance (DeFi)', 'Smart Contracts', 'Web3', 'Non-Fungible Tokens (NFTs)']\n",
    "\n",
    "extracted_skills = extract_skills_from_resume(text, skills_list)\n",
    "\n",
    "if extracted_skills:\n",
    "    print(\"Skills:\", extracted_skills)\n",
    "else:\n",
    "    print(\"No skills found\")"
   ]
  },
  {
   "cell_type": "markdown",
   "id": "0cfb5931",
   "metadata": {},
   "source": [
    "# Extracting Education\n",
    "Education qualifications play a vital role in the recruitment process. We can match specific education keywords against the resume text to identify the candidate’s educational background. Here’s a function to extract education information from the resume text:"
   ]
  },
  {
   "cell_type": "code",
   "execution_count": 30,
   "id": "544f6bc2",
   "metadata": {},
   "outputs": [
    {
     "name": "stdout",
     "output_type": "stream",
     "text": [
      "Education: ['Computer Science', 'Management', 'Education', 'software development', 'web development']\n"
     ]
    }
   ],
   "source": [
    "import re\n",
    "\n",
    "def extract_education_from_resume(text):\n",
    "    education = []\n",
    "\n",
    "    # List of education keywords to match against\n",
    "    education_keywords = [\n",
    "        'Computer Science', 'Information Technology', 'Software Engineering', 'Electrical Engineering', 'Mechanical Engineering', 'Civil Engineering',\n",
    "        'Chemical Engineering', 'Biomedical Engineering', 'Aerospace Engineering', 'Nuclear Engineering', 'Industrial Engineering', 'Systems Engineering',\n",
    "        'Environmental Engineering', 'Petroleum Engineering', 'Geological Engineering', 'Marine Engineering', 'Robotics Engineering', 'Biotechnology',\n",
    "        'Biochemistry', 'Microbiology', 'Genetics', 'Molecular Biology', 'Bioinformatics', 'Neuroscience', 'Biophysics', 'Biostatistics', 'Pharmacology',\n",
    "        'Physiology', 'Anatomy', 'Pathology', 'Immunology', 'Epidemiology', 'Public Health', 'Health Administration', 'Nursing', 'Medicine', 'Dentistry',\n",
    "        'Pharmacy', 'Veterinary Medicine', 'Medical Technology', 'Radiography', 'Physical Therapy', 'Occupational Therapy', 'Speech Therapy', 'Nutrition',\n",
    "        'Sports Science', 'Kinesiology', 'Exercise Physiology', 'Sports Medicine', 'Rehabilitation Science', 'Psychology', 'Counseling', 'Social Work',\n",
    "        'Sociology', 'Anthropology', 'Criminal Justice', 'Political Science', 'International Relations', 'Economics', 'Finance', 'Accounting', 'Business Administration',\n",
    "        'Management', 'Marketing', 'Entrepreneurship', 'Hospitality Management', 'Tourism Management', 'Supply Chain Management', 'Logistics Management',\n",
    "        'Operations Management', 'Human Resource Management', 'Organizational Behavior', 'Project Management', 'Quality Management', 'Risk Management',\n",
    "        'Strategic Management', 'Public Administration', 'Urban Planning', 'Architecture', 'Interior Design', 'Landscape Architecture', 'Fine Arts',\n",
    "        'Visual Arts', 'Graphic Design', 'Fashion Design', 'Industrial Design', 'Product Design', 'Animation', 'Film Studies', 'Media Studies',\n",
    "        'Communication Studies', 'Journalism', 'Broadcasting', 'Creative Writing', 'English Literature', 'Linguistics', 'Translation Studies',\n",
    "        'Foreign Languages', 'Modern Languages', 'Classical Studies', 'History', 'Archaeology', 'Philosophy', 'Theology', 'Religious Studies',\n",
    "        'Ethics', 'Education', 'Early Childhood Education', 'Elementary Education', 'Secondary Education', 'Special Education', 'Higher Education',\n",
    "        'Adult Education', 'Distance Education', 'Online Education', 'Instructional Design', 'Curriculum Development'\n",
    "        'Library Science', 'Information Science', 'Computer Engineering', 'Software Development', 'Cybersecurity', 'Information Security',\n",
    "        'Network Engineering', 'Data Science', 'Data Analytics', 'Business Analytics', 'Operations Research', 'Decision Sciences',\n",
    "        'Human-Computer Interaction', 'User Experience Design', 'User Interface Design', 'Digital Marketing', 'Content Strategy',\n",
    "        'Brand Management', 'Public Relations', 'Corporate Communications', 'Media Production', 'Digital Media', 'Web Development',\n",
    "        'Mobile App Development', 'Game Development', 'Virtual Reality', 'Augmented Reality', 'Blockchain Technology', 'Cryptocurrency',\n",
    "        'Digital Forensics', 'Forensic Science', 'Criminalistics', 'Crime Scene Investigation', 'Emergency Management', 'Fire Science',\n",
    "        'Environmental Science', 'Climate Science', 'Meteorology', 'Geography', 'Geomatics', 'Remote Sensing', 'Geoinformatics',\n",
    "        'Cartography', 'GIS (Geographic Information Systems)', 'Environmental Management', 'Sustainability Studies', 'Renewable Energy',\n",
    "        'Green Technology', 'Ecology', 'Conservation Biology', 'Wildlife Biology', 'Zoology']\n",
    "\n",
    "    for keyword in education_keywords:\n",
    "        pattern = r\"(?i)\\b{}\\b\".format(re.escape(keyword))\n",
    "        match = re.search(pattern, text)\n",
    "        if match:\n",
    "            education.append(match.group())\n",
    "\n",
    "    return education\n",
    "\n",
    "extracted_education = extract_education_from_resume(text)\n",
    "if extracted_education:\n",
    "    print(\"Education:\", extracted_education)\n",
    "else:\n",
    "    print(\"No education information found\")"
   ]
  },
  {
   "cell_type": "markdown",
   "id": "0951159a",
   "metadata": {},
   "source": [
    "# Extracting Name Using spaCy\n",
    "Identifying the candidate’s name from the resume is essential for personalization and identification. We can use spaCy and its pattern matching capabilities to extract the candidate’s name. Let’s define a function to extract the name using spaCy:"
   ]
  },
  {
   "cell_type": "code",
   "execution_count": 30,
   "id": "c9c0bf68",
   "metadata": {},
   "outputs": [
    {
     "name": "stdout",
     "output_type": "stream",
     "text": [
      "Extracted Name: Ritika Sharma\n",
      "Email\n",
      "Extracted Name: Ritika\n",
      "IIIT Vadodara\n",
      "BTech Student\n",
      "Extracted Name: John Michael Doe\n",
      "Software Engineer\n",
      "Phone\n",
      "Extracted Name: Email\n"
     ]
    }
   ],
   "source": [
    "import re\n",
    "\n",
    "def extract_name_from_resume(text):\n",
    "    \"\"\"\n",
    "    Extracts a person's name from a resume text.\n",
    "    - Supports names with or without \"Name:\"\n",
    "    - Handles single-word names and multi-word names\n",
    "    - Ignores \"Name\" when mistakenly extracted\n",
    "    \"\"\"\n",
    "    \n",
    "    name = None\n",
    "    \n",
    "    # Common patterns for extracting names\n",
    "    patterns = [\n",
    "        r\"(?i)Name[:\\s]+([A-Z][a-z]+(?:[-\\s][A-Z]?[a-z]+)*)\",  # Matches \"Name: John Michael Doe\"\n",
    "        r\"(?i)^\\s*([A-Z][a-z]+(?:[-\\s][A-Z]?[a-z]+)*)\",  # Matches names at the top\n",
    "        r\"\\b([A-Z][a-z]+)\\b\"  # Matches single-word names like \"Ritika\"\n",
    "    ]\n",
    "    \n",
    "    for pattern in patterns:\n",
    "        match = re.search(pattern, text)\n",
    "        if match:\n",
    "            extracted_name = match.group(1).strip()\n",
    "            \n",
    "            # Ensure we don't mistakenly extract \"Name\" as a name\n",
    "            if extracted_name.lower() != \"name\":\n",
    "                name = extracted_name\n",
    "                break  # Stop after finding the first valid match\n",
    "\n",
    "    return name\n",
    "\n",
    "# Example resume texts\n",
    "resume_texts = [\n",
    "    \"Name: Ritika Sharma\\nEmail: ritika@example.com\",\n",
    "    \"Ritika\\nIIIT Vadodara\\nBTech Student\",\n",
    "    \"John Michael Doe\\nSoftware Engineer\\nPhone: +91 98765 43210\",\n",
    "    \"Name:\\nEmail: someone@example.com\",  # No name given after \"Name:\"\n",
    "]\n",
    "\n",
    "for text in resume_texts:\n",
    "    name = extract_name_from_resume(text)\n",
    "    print(\"Extracted Name:\", name if name else \"Not Found\")\n"
   ]
  },
  {
   "cell_type": "code",
   "execution_count": null,
   "id": "420503a5",
   "metadata": {},
   "outputs": [],
   "source": []
  }
 ],
 "metadata": {
  "kernelspec": {
   "display_name": "Python 3",
   "language": "python",
   "name": "python3"
  },
  "language_info": {
   "codemirror_mode": {
    "name": "ipython",
    "version": 3
   },
   "file_extension": ".py",
   "mimetype": "text/x-python",
   "name": "python",
   "nbconvert_exporter": "python",
   "pygments_lexer": "ipython3",
   "version": "3.11.9"
  }
 },
 "nbformat": 4,
 "nbformat_minor": 5
}
